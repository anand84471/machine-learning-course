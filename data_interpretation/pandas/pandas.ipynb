{
 "cells": [
  {
   "cell_type": "markdown",
   "metadata": {},
   "source": [
    "# Pandas Tutorial\n",
    "\n",
    "# Introduction\n",
    "\n",
    "Pandas is a Python library for data manipulation and analysis. It provides powerful data structures like Series and DataFrame that are designed to handle structured data easily.\n",
    "\n",
    "In this tutorial, we will cover the following:\n",
    "1. Installation of Pandas\n",
    "2. Pandas Data Structures: Series and DataFrame\n",
    "3. DataFrame Operations: Viewing, Selection, and Filtering\n",
    "4. Data Cleaning and Handling Missing Data\n",
    "5. Data Merging, Joining, and Concatenation\n",
    "6. Aggregation and Grouping\n",
    "7. Working with Time Series Data\n",
    "8. Input and Output: Reading and Writing Data\n"
   ]
  },
  {
   "cell_type": "markdown",
   "metadata": {},
   "source": [
    "# 1. Installation\n",
    "\n",
    "\n",
    "You can install Pandas using pip (Python Package Manager):\n",
    "```\n",
    "!pip install pandas\n",
    "```"
   ]
  },
  {
   "cell_type": "code",
   "execution_count": null,
   "metadata": {},
   "outputs": [],
   "source": [
    "import pandas as pd\n",
    "import numpy as np"
   ]
  },
  {
   "cell_type": "markdown",
   "metadata": {},
   "source": [
    "\n",
    "# 2. Pandas Data Structures: Series and DataFrame\n",
    "\n",
    "The two primary data structures in pandas are Series (1D) and DataFrame (2D). They are built on top of NumPy arrays but with added functionality.\n"
   ]
  },
  {
   "cell_type": "code",
   "execution_count": null,
   "metadata": {},
   "outputs": [],
   "source": [
    "# Series: One-dimensional array-like object\n",
    "data_series = pd.Series([1, 2, 3, 4, 5], index=['a', 'b', 'c', 'd', 'e'])\n",
    "print(\"Series:\\n\", data_series)\n",
    "\n",
    "# DataFrame: Two-dimensional, tabular data\n",
    "data = {'Name': ['Alice', 'Bob', 'Charlie', 'David'],\n",
    "        'Age': [24, 27, 22, 32],\n",
    "        'City': ['New York', 'Los Angeles', 'Chicago', 'Houston']}\n",
    "\n",
    "dataframe = pd.DataFrame(data)\n",
    "print(\"\\nDataFrame:\\n\", dataframe)"
   ]
  },
  {
   "cell_type": "markdown",
   "metadata": {},
   "source": [
    "# 3. DataFrame Operations: Viewing, Selection, and Filtering\n",
    "\n",
    "Pandas provides intuitive methods to view, select, and filter data within a DataFrame.\n",
    "\n"
   ]
  },
  {
   "cell_type": "code",
   "execution_count": null,
   "metadata": {},
   "outputs": [],
   "source": [
    "\n",
    "# Viewing data\n",
    "print(\"\\nFirst 2 rows of DataFrame:\\n\", dataframe.head(2))\n",
    "print(\"\\nSummary of DataFrame:\\n\", dataframe.describe())\n",
    "\n",
    "# Selection of columns and rows\n",
    "print(\"\\nSelect 'Name' column:\\n\", dataframe['Name'])\n",
    "\n",
    "# Selecting multiple columns\n",
    "print(\"\\nSelect 'Name' and 'City' columns:\\n\", dataframe[['Name', 'City']])\n",
    "\n",
    "# Filtering rows based on conditions\n",
    "print(\"\\nRows where Age > 25:\\n\", dataframe[dataframe['Age'] > 25])"
   ]
  },
  {
   "cell_type": "markdown",
   "metadata": {},
   "source": [
    "# 4. Data Cleaning and Handling Missing Data\n",
    "\n",
    "Pandas makes it easy to clean and handle missing or invalid data.\n"
   ]
  },
  {
   "cell_type": "code",
   "execution_count": null,
   "metadata": {},
   "outputs": [],
   "source": [
    "# Adding missing values\n",
    "data_with_nan = {'Name': ['Alice', 'Bob', 'Charlie', 'David'],\n",
    "                 'Age': [24, None, 22, 32],\n",
    "                 'City': ['New York', 'Los Angeles', None, 'Houston']}\n",
    "\n",
    "df_with_nan = pd.DataFrame(data_with_nan)\n",
    "print(\"\\nDataFrame with NaN values:\\n\", df_with_nan)\n",
    "\n",
    "# Filling missing values\n",
    "df_filled = df_with_nan.fillna('Unknown')\n",
    "print(\"\\nFilled NaN with 'Unknown':\\n\", df_filled)\n",
    "\n",
    "# Dropping missing values\n",
    "df_dropped = df_with_nan.dropna()\n",
    "print(\"\\nDropped rows with NaN values:\\n\", df_dropped)"
   ]
  },
  {
   "cell_type": "markdown",
   "metadata": {},
   "source": [
    "# 5. Data Merging, Joining, and Concatenation\n",
    "\n",
    "Pandas provides easy-to-use methods for combining DataFrames.\n"
   ]
  },
  {
   "cell_type": "code",
   "execution_count": null,
   "metadata": {},
   "outputs": [],
   "source": [
    "# Concatenation\n",
    "df1 = pd.DataFrame({'A': [1, 2], 'B': [3, 4]})\n",
    "df2 = pd.DataFrame({'A': [5, 6], 'B': [7, 8]})\n",
    "\n",
    "concat_df = pd.concat([df1, df2], ignore_index=True)\n",
    "print(\"\\nConcatenated DataFrames:\\n\", concat_df)\n",
    "\n",
    "# Merging DataFrames\n",
    "left = pd.DataFrame({'key': ['A', 'B', 'C'], 'left_value': [1, 2, 3]})\n",
    "right = pd.DataFrame({'key': ['A', 'B', 'D'], 'right_value': [4, 5, 6]})\n",
    "\n",
    "merged_df = pd.merge(left, right, on='key', how='outer')\n",
    "print(\"\\nMerged DataFrame (outer join):\\n\", merged_df)"
   ]
  },
  {
   "cell_type": "markdown",
   "metadata": {},
   "source": [
    "# 6. Aggregation and Grouping\n",
    "\n",
    "Pandas provides powerful grouping and aggregation functions to summarize data.\n"
   ]
  },
  {
   "cell_type": "code",
   "execution_count": null,
   "metadata": {},
   "outputs": [],
   "source": [
    "# Grouping by a column\n",
    "grouped_df = dataframe.groupby('City')['Age'].mean()\n",
    "print(\"\\nAverage Age per City:\\n\", grouped_df)\n",
    "\n",
    "# Aggregating data using multiple functions\n",
    "agg_df = dataframe.groupby('City').agg({'Age': ['mean', 'min', 'max']})\n",
    "print(\"\\nAggregated Age statistics by City:\\n\", agg_df)"
   ]
  },
  {
   "cell_type": "markdown",
   "metadata": {},
   "source": [
    "# 7. Working with Time Series Data\n",
    "\n",
    "Pandas has robust tools for handling time series data, including parsing dates and resampling.\n"
   ]
  },
  {
   "cell_type": "code",
   "execution_count": null,
   "metadata": {},
   "outputs": [],
   "source": [
    "# Creating a time series\n",
    "date_range = pd.date_range('2024-01-01', periods=5, freq='D')\n",
    "time_series = pd.Series(np.random.randn(5), index=date_range)\n",
    "print(\"\\nTime Series Data:\\n\", time_series)\n",
    "\n",
    "# Resampling time series data\n",
    "resampled_series = time_series.resample('2D').mean()\n",
    "print(\"\\nResampled (2-day mean):\\n\", resampled_series)"
   ]
  },
  {
   "cell_type": "markdown",
   "metadata": {},
   "source": [
    "# 8. Input and Output: Reading and Writing Data\n",
    "\n",
    "Pandas supports a wide variety of file formats to read and write data, including CSV, Excel, JSON, and SQL.\n",
    "\n",
    "# Reading from a CSV file\n",
    "\n",
    "You can read data from a CSV file using:\n",
    "\n",
    "```\n",
    "df_from_csv = pd.read_csv('data.csv')\n",
    "```\n",
    "\n",
    "# Writing DataFrame to a CSV file\n",
    "\n",
    "To write a DataFrame to a CSV file, use:\n",
    "\n",
    "```\n",
    "dataframe.to_csv('output.csv', index=False)\n",
    "```\n",
    "\n",
    "# Reading from and writing to Excel\n",
    "\n",
    "To read/write Excel files, install the openpyxl library:\n",
    "\n",
    "```\n",
    "!pip install openpyxl\n",
    "```\n",
    "\n",
    "Reading:\n",
    "\n",
    "```\n",
    "df_from_excel = pd.read_excel('data.xlsx')\n",
    "```\n",
    "\n",
    "Writing:\n",
    "\n",
    "```\n",
    "dataframe.to_excel('output.xlsx', index=False)\n",
    "```"
   ]
  },
  {
   "cell_type": "markdown",
   "metadata": {},
   "source": [
    "\n",
    "# Conclusion\n",
    "\n",
    "In this tutorial, we covered the basics of pandas, including data manipulation, cleaning, merging, and grouping operations. Pandas is an essential tool for data analysis and manipulation in Python.\n"
   ]
  }
 ],
 "metadata": {
  "language_info": {
   "name": "python"
  }
 },
 "nbformat": 4,
 "nbformat_minor": 2
}
