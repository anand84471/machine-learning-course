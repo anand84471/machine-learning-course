{
 "cells": [
  {
   "cell_type": "markdown",
   "metadata": {},
   "source": [
    "# NumPy Tutorial\n",
    "\n",
    "# Introduction\n",
    "NumPy (Numerical Python) is a Python library that provides support for large, multi-dimensional arrays and matrices, along with a collection of mathematical functions to operate on these arrays. \n",
    "It is one of the key packages for scientific computing in Python.\n",
    "\n",
    "In this tutorial, we will cover the following:\n",
    "\n",
    "1. Installation of NumPy\n",
    "2. NumPy Arrays: Creation, Inspection, and Basic Operations\n",
    "3. Indexing, Slicing, and Iterating over Arrays\n",
    "4. Array Manipulations (Shape, Reshape, Transpose)\n",
    "5. Broadcasting and Vectorized Operations\n",
    "6. Mathematical Functions\n",
    "7. Linear Algebra with NumPy\n",
    "8. Random Numbers\n",
    "\n"
   ]
  },
  {
   "cell_type": "markdown",
   "metadata": {},
   "source": [
    "# 1. Installation\n",
    "\n",
    "You can install NumPy using pip (Python Package Manager):\n",
    "```\n",
    "!pip install numpy\n",
    "```\n",
    "\n"
   ]
  },
  {
   "cell_type": "markdown",
   "metadata": {},
   "source": [
    "\n",
    "# 2. NumPy Arrays: Creation, Inspection, and Basic Operations\n",
    "\n",
    "NumPy arrays form the foundation of NumPy. They are homogeneous multidimensional arrays.\n",
    "\n"
   ]
  },
  {
   "cell_type": "code",
   "execution_count": null,
   "metadata": {},
   "outputs": [],
   "source": [
    "\n",
    "import numpy as np\n",
    "\n",
    "# Create a 1D array\n",
    "array_1d = np.array([1, 2, 3, 4, 5])\n",
    "print(\"1D Array:\", array_1d)\n",
    "\n",
    "# Create a 2D array\n",
    "array_2d = np.array([[1, 2, 3], [4, 5, 6]])\n",
    "print(\"2D Array:\\n\", array_2d)\n",
    "\n",
    "# Array of zeros, ones, and a range\n",
    "zeros_array = np.zeros((2, 3))\n",
    "ones_array = np.ones((3, 3))\n",
    "range_array = np.arange(0, 10, 2)\n",
    "\n",
    "print(\"Zeros Array:\\n\", zeros_array)\n",
    "print(\"Ones Array:\\n\", ones_array)\n",
    "print(\"Range Array:\", range_array)\n",
    "\n",
    "# Inspecting Arrays\n",
    "print(\"Shape of array_2d:\", array_2d.shape)\n",
    "print(\"Number of dimensions of array_2d:\", array_2d.ndim)\n",
    "print(\"Data type of elements in array_2d:\", array_2d.dtype)\n"
   ]
  },
  {
   "cell_type": "markdown",
   "metadata": {},
   "source": [
    "# 3. Indexing, Slicing, and Iterating\n",
    "\n",
    "NumPy allows for very efficient access to array elements via indexing and slicing.\n"
   ]
  },
  {
   "cell_type": "code",
   "execution_count": null,
   "metadata": {},
   "outputs": [],
   "source": [
    "# Indexing\n",
    "print(\"Element at [1, 2] in array_2d:\", array_2d[1, 2])\n",
    "\n",
    "# Slicing\n",
    "print(\"Slicing first row:\", array_2d[0, :])\n",
    "\n",
    "# Iterating over arrays\n",
    "print(\"Iterating over elements of 1D array:\")\n",
    "for element in array_1d:\n",
    "    print(element)"
   ]
  },
  {
   "cell_type": "markdown",
   "metadata": {},
   "source": [
    "# 4. Array Manipulation: Shape, Reshape, Transpose\n",
    "\n",
    "Arrays can be reshaped and transposed. NumPy allows you to modify array shapes or create new arrays with different shapes.\n"
   ]
  },
  {
   "cell_type": "code",
   "execution_count": null,
   "metadata": {},
   "outputs": [],
   "source": [
    "# Reshape a 1D array to a 2D array\n",
    "reshaped_array = np.arange(12).reshape(3, 4)\n",
    "print(\"Reshaped Array (3x4):\\n\", reshaped_array)\n",
    "\n",
    "# Transpose a 2D array\n",
    "transposed_array = reshaped_array.T\n",
    "print(\"Transposed Array:\\n\", transposed_array)\n",
    "\n",
    "# Flattening a 2D array\n",
    "flattened_array = reshaped_array.flatten()\n",
    "print(\"Flattened Array:\", flattened_array)"
   ]
  },
  {
   "cell_type": "markdown",
   "metadata": {},
   "source": [
    "# 5. Broadcasting and Vectorized Operations\n",
    "\n",
    "NumPy's broadcasting allows arrays of different shapes to be used in arithmetic operations.\n"
   ]
  },
  {
   "cell_type": "code",
   "execution_count": null,
   "metadata": {},
   "outputs": [],
   "source": [
    "# Broadcasting example\n",
    "a = np.array([1, 2, 3])\n",
    "b = np.array([[1], [2], [3]])\n",
    "\n",
    "print(\"Array A:\", a)\n",
    "print(\"Array B:\\n\", b)\n",
    "print(\"A + B:\\n\", a + b)\n",
    "\n",
    "# Vectorized operations\n",
    "array = np.array([1, 2, 3, 4])\n",
    "print(\"Array * 2:\", array * 2)"
   ]
  },
  {
   "cell_type": "markdown",
   "metadata": {},
   "source": [
    "# 6. Mathematical Functions\n",
    "\n",
    "NumPy offers a wide range of mathematical functions such as trigonometric, exponential, and statistical functions.\n"
   ]
  },
  {
   "cell_type": "code",
   "execution_count": null,
   "metadata": {},
   "outputs": [],
   "source": [
    "# Trigonometric functions\n",
    "angles = np.array([0, np.pi/2, np.pi])\n",
    "sin_values = np.sin(angles)\n",
    "print(\"Sine of angles:\", sin_values)\n",
    "\n",
    "# Statistical functions\n",
    "random_data = np.random.randn(1000)\n",
    "mean = np.mean(random_data)\n",
    "std_dev = np.std(random_data)\n",
    "\n",
    "print(\"Mean of random data:\", mean)\n",
    "print(\"Standard Deviation of random data:\", std_dev)\n"
   ]
  },
  {
   "cell_type": "markdown",
   "metadata": {},
   "source": [
    "# 7. Linear Algebra with NumPy\n",
    "\n",
    "NumPy includes a submodule for linear algebra, which contains functions for matrix operations, including inverse, determinant, and eigenvalues.\n",
    "\n"
   ]
  },
  {
   "cell_type": "code",
   "execution_count": null,
   "metadata": {},
   "outputs": [],
   "source": [
    "\n",
    "# Matrix multiplication\n",
    "matrix1 = np.array([[1, 2], [3, 4]])\n",
    "matrix2 = np.array([[5, 6], [7, 8]])\n",
    "\n",
    "matrix_product = np.dot(matrix1, matrix2)\n",
    "print(\"Matrix Product:\\n\", matrix_product)\n",
    "\n",
    "# Inverse of a matrix\n",
    "matrix_inv = np.linalg.inv(matrix1)\n",
    "print(\"Inverse of matrix1:\\n\", matrix_inv)\n",
    "\n",
    "# Eigenvalues and eigenvectors\n",
    "eigenvalues, eigenvectors = np.linalg.eig(matrix1)\n",
    "print(\"Eigenvalues:\", eigenvalues)\n",
    "print(\"Eigenvectors:\\n\", eigenvectors)"
   ]
  },
  {
   "cell_type": "markdown",
   "metadata": {},
   "source": [
    "# 8. Random Numbers\n",
    "\n",
    "NumPy provides powerful random number generation capabilities. You can create random integers, floats, and random samples from different distributions.\n"
   ]
  },
  {
   "cell_type": "code",
   "execution_count": null,
   "metadata": {},
   "outputs": [],
   "source": [
    "\n",
    "# Random integers between 0 and 10\n",
    "random_integers = np.random.randint(0, 10, size=(3, 3))\n",
    "print(\"Random Integers:\\n\", random_integers)\n",
    "\n",
    "# Random floats between 0 and 1\n",
    "random_floats = np.random.rand(3, 3)\n",
    "print(\"Random Floats:\\n\", random_floats)\n",
    "\n",
    "# Normal distribution\n",
    "random_normal = np.random.randn(3, 3)\n",
    "print(\"Random Samples from Normal Distribution:\\n\", random_normal)\n"
   ]
  },
  {
   "cell_type": "markdown",
   "metadata": {},
   "source": [
    "\n",
    "# Conclusion\n",
    "\n",
    "This tutorial covered key features of NumPy such as array creation, manipulation, and mathematical operations. NumPy's efficiency in handling large datasets and matrix operations makes it an essential tool in scientific computing.\n"
   ]
  }
 ],
 "metadata": {
  "kernelspec": {
   "display_name": "etbot_env",
   "language": "python",
   "name": "python3"
  },
  "language_info": {
   "codemirror_mode": {
    "name": "ipython",
    "version": 3
   },
   "file_extension": ".py",
   "mimetype": "text/x-python",
   "name": "python",
   "nbconvert_exporter": "python",
   "pygments_lexer": "ipython3",
   "version": "3.11.5"
  }
 },
 "nbformat": 4,
 "nbformat_minor": 2
}
