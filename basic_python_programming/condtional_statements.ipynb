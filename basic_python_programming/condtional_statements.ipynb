{
 "cells": [
  {
   "cell_type": "code",
   "execution_count": null,
   "metadata": {},
   "outputs": [],
   "source": []
  },
  {
   "cell_type": "markdown",
   "metadata": {},
   "source": [
    "# Conditional Statements in Python\n",
    "Conditional statements allow you to execute different blocks of code based on specific conditions. They are essential for making decisions within your program. The primary conditional statements in Python are `if`, `elif`, and `else.`\n",
    "\n",
    "1. The `if` Statement\n",
    "The if statement tests a condition. If the condition evaluates to True, the code block within the if statement will execute.\n",
    "\n",
    "```python\n",
    "temperature = 30\n",
    "\n",
    "if temperature > 25:\n",
    "    print(\"It's a hot day!\")  # This line executes because the condition is True.\n",
    "```\n",
    "Explanation: In this example, since temperature is greater than 25, the message \"It's a hot day!\" is printed.\n",
    "\n",
    "2.  The `elif` Statement\n",
    "The `elif` (short for \"else if\") statement allows you to check multiple conditions. If the first if condition is `False`, the program will check the elif condition. If this condition is `True`, the associated code block will execute.\n",
    "\n",
    "```python\n",
    "temperature = 20\n",
    "\n",
    "if temperature > 25:\n",
    "    print(\"It's a hot day!\")\n",
    "elif temperature < 15:\n",
    "    print(\"It's a cold day!\")  # This line does not execute because the condition is False.\n",
    "else:\n",
    "    print(\"It's a pleasant day!\")  # This line executes because all previous conditions are False.\n",
    "\n",
    "```\n",
    "\n",
    "3. The `else` Statement\n",
    "The `else` statement is optional and is used after `if` or `elif` statements. It defines a block of code that will execute if none of the previous conditions were True.\n",
    "\n",
    "```python\n",
    "temperature = 10\n",
    "\n",
    "if temperature > 25:\n",
    "    print(\"It's a hot day!\")\n",
    "elif temperature < 15:\n",
    "    print(\"It's a cold day!\")  # This line executes because the condition is True.\n",
    "else:\n",
    "    print(\"It's a pleasant day!\")  # This line does not execute.\n",
    "```\n",
    "Explanation: In this case, since the temperature is less than 15, the message `\"It's a cold day!\"` is printed, and the else block is skipped.\n",
    "\n",
    "4. Nested Conditional Statements\n",
    "You can nest if statements inside other if statements to create more complex conditions.\n",
    "\n",
    "```python\n",
    "temperature = 30\n",
    "humidity = 70\n",
    "\n",
    "if temperature > 25:\n",
    "    print(\"It's a hot day!\")\n",
    "    if humidity > 60:\n",
    "        print(\"It's also humid!\")  # This line executes because both conditions are True.\n",
    "```\n",
    "\n",
    "## Summary\n",
    "- **`if`** Statement: Checks a condition; if True, executes the associated block.\n",
    "- **`elif`** Statement: Checks an additional condition if the previous if was False.\n",
    "- **`else`** Statement: Executes a block of code if none of the preceding conditions are True.\n",
    "- **Nested Conditions**: You can place an if statement inside another if statement for more complex decision-making."
   ]
  },
  {
   "cell_type": "code",
   "execution_count": 12,
   "metadata": {},
   "outputs": [
    {
     "name": "stdout",
     "output_type": "stream",
     "text": [
      "It's a hot day!\n",
      "It's a pleasant day!\n"
     ]
    }
   ],
   "source": [
    "# 1. The `if` Statement\n",
    "temperature = 30\n",
    "\n",
    "if temperature > 25:\n",
    "    print(\"It's a hot day!\")  # This line executes because the condition is True.\n",
    "\n",
    "# Output: It's a hot day!\n",
    "\n",
    "\n",
    "# 2. The `elif` Statement\n",
    "temperature = 20\n",
    "\n",
    "if temperature > 25:\n",
    "    print(\"It's a hot day!\")\n",
    "elif temperature < 15:\n",
    "    print(\"It's a cold day!\")\n",
    "else:\n",
    "    print(\"It's a pleasant day!\")  # This line executes because none of the previous conditions were\n"
   ]
  },
  {
   "cell_type": "markdown",
   "metadata": {},
   "source": [
    "# Let's write a program to find a given number is even number\n",
    "## Example 1"
   ]
  },
  {
   "cell_type": "code",
   "execution_count": 13,
   "metadata": {},
   "outputs": [
    {
     "name": "stdout",
     "output_type": "stream",
     "text": [
      "10 is an even number.\n"
     ]
    }
   ],
   "source": [
    "# Checking if a number is even\n",
    "\n",
    "# Input: a number\n",
    "number = 10\n",
    "\n",
    "# Using the modulus operator to check if the number is even\n",
    "if number % 2 == 0:\n",
    "    print(f\"{number} is an even number.\")  # Output: 10 is an even number.\n",
    "else:\n",
    "    print(f\"{number} is an odd number.\")"
   ]
  },
  {
   "cell_type": "markdown",
   "metadata": {},
   "source": [
    "# Explanation:\n",
    "The `%` (modulus) operator returns the remainder of the division of number by 2. If the remainder is 0, the number is even.\n",
    "If the remainder is not 0, the number is odd."
   ]
  },
  {
   "cell_type": "markdown",
   "metadata": {},
   "source": [
    "# Check if a Number is Positive, Negative, or Zero\n",
    "## Example 2"
   ]
  },
  {
   "cell_type": "code",
   "execution_count": 14,
   "metadata": {},
   "outputs": [
    {
     "name": "stdout",
     "output_type": "stream",
     "text": [
      "-10 is negative.\n"
     ]
    }
   ],
   "source": [
    "# Check if a number is positive, negative, or zero\n",
    "number = -10\n",
    "\n",
    "if number > 0:\n",
    "    print(f\"{number} is positive.\")\n",
    "elif number < 0:\n",
    "    print(f\"{number} is negative.\")\n",
    "else:\n",
    "    print(f\"The number is zero.\")"
   ]
  },
  {
   "cell_type": "markdown",
   "metadata": {},
   "source": [
    "# A leap year is divisible by 4, but if it is divisible by 100, it must also be divisible by 400\n",
    "## Example 3"
   ]
  },
  {
   "cell_type": "code",
   "execution_count": 15,
   "metadata": {},
   "outputs": [
    {
     "name": "stdout",
     "output_type": "stream",
     "text": [
      "2024 is a leap year.\n"
     ]
    }
   ],
   "source": [
    "# Check if a year is a leap year\n",
    "year = 2024\n",
    "\n",
    "if (year % 4 == 0 and year % 100 != 0) or (year % 400 == 0):\n",
    "    print(f\"{year} is a leap year.\")\n",
    "else:\n",
    "    print(f\"{year} is not a leap year.\")"
   ]
  }
 ],
 "metadata": {
  "kernelspec": {
   "display_name": "Python 3",
   "language": "python",
   "name": "python3"
  },
  "language_info": {
   "codemirror_mode": {
    "name": "ipython",
    "version": 3
   },
   "file_extension": ".py",
   "mimetype": "text/x-python",
   "name": "python",
   "nbconvert_exporter": "python",
   "pygments_lexer": "ipython3",
   "version": "3.10.1"
  }
 },
 "nbformat": 4,
 "nbformat_minor": 2
}
