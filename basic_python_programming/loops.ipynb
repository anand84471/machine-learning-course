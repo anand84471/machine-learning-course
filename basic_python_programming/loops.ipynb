{
 "cells": [
  {
   "cell_type": "markdown",
   "metadata": {},
   "source": [
    "# Lopps\n",
    "\n",
    "Loops in Python allow you to execute a block of code multiple times. This is useful when you need to repeat certain actions or iterate over items in a collection (like `lists`, `tuples`, or `strings`). Python has two main types of loops: for loops and while loops.\n",
    "\n",
    "- There are two types of lists in python\n",
    "- 1. `for` loop: Used to iterate over sequences (like `lists`, `strings`, and `ranges`).\n",
    "- 2. `while` loop : Runs as long as a specified condition is `True`.\n",
    "\n",
    "Summary of Key Points:\n",
    "- **`for`** loop: Used to iterate over sequences (like `lists`, `strings`, and `ranges`).\n",
    "- **`while`** loop: Runs as long as a specified condition is `True`.\n",
    "- **`break`**: Exits the loop immediately.\n",
    "- **`continue`**: Skips the rest of the loop and moves to the next iteration.\n",
    "- **`pass`**: Does nothing; acts as a placeholder.\n",
    "- **Nested loops**: One loop inside another.\n",
    "- **`else`** block in loops: Executes after the loop completes unless the loop is terminated with break.\n"
   ]
  },
  {
   "cell_type": "markdown",
   "metadata": {},
   "source": [
    "## 1. For Loops\n",
    "A `for` loop is used for iterating over a sequence (such as a `list`, `tuple`, `string`.)\n",
    "\n",
    "syntax\n",
    "```python\n",
    "for item in sequence:\n",
    "    # Code to execute for each item\n",
    "```\n",
    "Example 1: Iterating through a list\n",
    "\n",
    "```python\n",
    "# List of fruits\n",
    "fruits = [\"apple\", \"banana\", \"cherry\"]\n",
    "\n",
    "for fruit in fruits:\n",
    "    print(fruit)\n",
    "\n",
    "```\n",
    "output:\n",
    "apple\n",
    "banana\n",
    "cherry\n",
    "\n",
    "Example 2: Using range() function\n",
    "The range() function generates a sequence of numbers.\n",
    "\n",
    "```python\n",
    "# Using range to iterate over numbers\n",
    "for i in range(5):\n",
    "    print(i)\n",
    "```\n",
    "\n"
   ]
  },
  {
   "cell_type": "code",
   "execution_count": 2,
   "metadata": {},
   "outputs": [
    {
     "name": "stdout",
     "output_type": "stream",
     "text": [
      "apple\n",
      "banana\n",
      "cherry\n",
      "0\n",
      "1\n",
      "2\n",
      "3\n",
      "4\n"
     ]
    }
   ],
   "source": [
    "# List of fruits\n",
    "fruits = [\"apple\", \"banana\", \"cherry\"]\n",
    "\n",
    "for fruit in fruits:\n",
    "    print(fruit)\n",
    "\n",
    "\n",
    "# Using range to iterate over numbers\n",
    "for i in range(5):\n",
    "    print(i)\n"
   ]
  }
 ],
 "metadata": {
  "kernelspec": {
   "display_name": "Python 3",
   "language": "python",
   "name": "python3"
  },
  "language_info": {
   "codemirror_mode": {
    "name": "ipython",
    "version": 3
   },
   "file_extension": ".py",
   "mimetype": "text/x-python",
   "name": "python",
   "nbconvert_exporter": "python",
   "pygments_lexer": "ipython3",
   "version": "3.10.1"
  }
 },
 "nbformat": 4,
 "nbformat_minor": 2
}
