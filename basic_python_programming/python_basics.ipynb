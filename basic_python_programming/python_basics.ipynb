{
 "cells": [
  {
   "cell_type": "code",
   "execution_count": null,
   "metadata": {},
   "outputs": [],
   "source": []
  },
  {
   "cell_type": "markdown",
   "metadata": {},
   "source": [
    "# Variable Types in Python\n",
    "\n",
    "In Python, variables can hold different types of data. Here are the main variable types you should know about:\n",
    "\n",
    "## 1. Numeric Types\n",
    "- **Integer (`int`)**: Whole numbers, e.g., `5`, `-10`, `0`.\n",
    "- **Float (`float`)**: Floating-point numbers, e.g., `3.14`, `-0.001`, `2.0`.\n",
    "\n",
    "## 2. Sequence Types\n",
    "- **String (`str`)**: A sequence of characters, e.g., `\"Hello, World!\"`.\n",
    "- **List (`list`)**: An ordered, mutable collection of items, e.g., `[1, 2, 3]`, `[\"apple\", \"banana\", \"cherry\"]`.\n",
    "- **Tuple (`tuple`)**: An ordered, immutable collection of items, e.g., `(1, 2, 3)`, `(\"apple\", \"banana\", \"cherry\")`.\n",
    "\n",
    "## 3. Mapping Type\n",
    "- **Dictionary (`dict`)**: A collection of key-value pairs, e.g., `{\"name\": \"Alice\", \"age\": 25}`.\n",
    "\n",
    "## 4. Set Types\n",
    "- **Set (`set`)**: An unordered collection of unique items, e.g., `{1, 2, 3}`.\n",
    "- **Frozenset (`frozenset`)**: An immutable version of a set, e.g., `frozenset([1, 2, 3])`.\n",
    "\n",
    "## 5. Boolean Type\n",
    "- **Boolean (`bool`)**: Represents truth values, either `True` or `False`.\n",
    "\n",
    "## 6. None Type\n",
    "- **NoneType (`None`)**: Represents the absence of a value or a null value, e.g., `None`.\n",
    "\n",
    "## Examples"
   ]
  },
  {
   "cell_type": "code",
   "execution_count": 2,
   "metadata": {},
   "outputs": [],
   "source": [
    "# Numeric types\n",
    "x = 5           # int\n",
    "y = 3.14        # float\n",
    "z = 3 + 4j      # complex"
   ]
  },
  {
   "cell_type": "markdown",
   "metadata": {},
   "source": [
    "## 2. Sequence Types\n",
    "- **String (`str`)**: A sequence of characters, e.g., `\"Hello, World!\"`.\n",
    "- **List (`list`)**: An ordered, mutable collection of items, e.g., `[1, 2, 3]`, `[\"apple\", \"banana\", \"cherry\"]`.\n",
    "- **Tuple (`tuple`)**: An ordered, immutable collection of items, e.g., `(1, 2, 3)`, `(\"apple\", \"banana\", \"cherry\")`.\n"
   ]
  },
  {
   "cell_type": "code",
   "execution_count": null,
   "metadata": {},
   "outputs": [],
   "source": [
    "# Sequence types\n",
    "name = \"Alice\"  # str\n",
    "numbers = [1, 2, 3]  # list\n",
    "coordinates = (10, 20)  # tuple"
   ]
  }
 ],
 "metadata": {
  "kernelspec": {
   "display_name": "Python 3",
   "language": "python",
   "name": "python3"
  },
  "language_info": {
   "codemirror_mode": {
    "name": "ipython",
    "version": 3
   },
   "file_extension": ".py",
   "mimetype": "text/x-python",
   "name": "python",
   "nbconvert_exporter": "python",
   "pygments_lexer": "ipython3",
   "version": "3.10.1"
  }
 },
 "nbformat": 4,
 "nbformat_minor": 2
}
